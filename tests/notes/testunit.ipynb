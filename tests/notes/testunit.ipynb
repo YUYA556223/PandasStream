{
 "cells": [
  {
   "cell_type": "code",
   "execution_count": 1,
   "metadata": {},
   "outputs": [],
   "source": [
    "from pandas import DataFrame\n",
    "from pandasstream.stream import PandasStream as ps"
   ]
  },
  {
   "cell_type": "code",
   "execution_count": 2,
   "metadata": {},
   "outputs": [
    {
     "data": {
      "text/plain": [
       "0                   Weee\n",
       "Test2    [100, 150, 150]\n",
       "Name: Test, dtype: object"
      ]
     },
     "execution_count": 2,
     "metadata": {},
     "output_type": "execute_result"
    }
   ],
   "source": [
    "(\n",
    "    ps(data_frame=DataFrame(\n",
    "    {\n",
    "        \"Hello\": [\"Hello2\"],\n",
    "        \"Test\": [\"Weee\"],\n",
    "        \"Test2\": [\"Weee\"],\n",
    "        \"Test3\": [\"Weee\"]\n",
    "    }))\n",
    "    .select(\"Test\")\n",
    "    .mutate(lambda df: {\"Test2\": [100, 150, 150]})\n",
    "    .as_dataframe()\n",
    ")"
   ]
  },
  {
   "cell_type": "code",
   "execution_count": null,
   "metadata": {},
   "outputs": [],
   "source": []
  }
 ],
 "metadata": {
  "interpreter": {
   "hash": "0829fe8612622ecda04e67b6c6a087f6b2d17f90a7e8dbbb0e95f5991166c87f"
  },
  "kernelspec": {
   "display_name": "Python 3.8.9 ('.venv': poetry)",
   "language": "python",
   "name": "python3"
  },
  "language_info": {
   "codemirror_mode": {
    "name": "ipython",
    "version": 3
   },
   "file_extension": ".py",
   "mimetype": "text/x-python",
   "name": "python",
   "nbconvert_exporter": "python",
   "pygments_lexer": "ipython3",
   "version": "3.8.9"
  },
  "orig_nbformat": 4
 },
 "nbformat": 4,
 "nbformat_minor": 2
}
